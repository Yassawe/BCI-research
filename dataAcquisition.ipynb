{
 "cells": [
  {
   "cell_type": "code",
   "execution_count": 1,
   "metadata": {},
   "outputs": [
    {
     "name": "stderr",
     "output_type": "stream",
     "text": [
      "INFO: Using numpy backend\n"
     ]
    }
   ],
   "source": [
    "import numpy as np\n",
    "import scipy.linalg as la\n",
    "from sklearn.discriminant_analysis import LinearDiscriminantAnalysis as LDA\n",
    "import geomstats as gs\n",
    "import geomstats.geometry.spd_matrices as spd\n",
    "import pickle\n",
    "from scipy.signal import butter, lfilter\n",
    "from geomstats.learning.frechet_mean import FrechetMean\n",
    "from scipy.io import loadmat\n",
    "import pandas as pd\n",
    "from copy import deepcopy\n",
    "from scipy.stats import wilcoxon\n",
    "\n",
    "\n",
    "pd.set_option('display.max_columns', None)\n",
    "pd.set_option('display.max_rows', None)\n",
    "pd.options.display.float_format = \"{:,.3f}\".format"
   ]
  },
  {
   "cell_type": "code",
   "execution_count": 2,
   "metadata": {},
   "outputs": [],
   "source": [
    "def getCovariances(X):\n",
    "    covlist = np.empty((X.shape[0], X.shape[2], X.shape[2]))\n",
    "    for i in range(len(X)):\n",
    "        trial = X[i]\n",
    "        n = trial.shape[0]\n",
    "        epoch = (trial - np.mean(trial))/np.std(trial)\n",
    "        covlist[i] = np.dot(trial.T, trial)/n\n",
    "    return covlist\n",
    "\n",
    "def bandpass(X, fs, fl, fh, order):\n",
    "    X_filtered = np.empty_like(X)    \n",
    "    for i in range(X.shape[1]):\n",
    "        trial = X[:, i, :]\n",
    "        nyq = 0.5 * fs\n",
    "        low = fl / nyq\n",
    "        high = fh / nyq\n",
    "        b, a = butter(order, [low, high], btype='band')\n",
    "        trial = lfilter(b, a, trial, axis=0)\n",
    "        X_filtered[:, i, :] = trial\n",
    "            \n",
    "    return X_filtered\n",
    "\n",
    "def getData(session, fs=1000, fl=8, fh=30, order = 5):\n",
    "    channels = [7, 8, 9, 10, 12, 13, 14, 17, 18, 19, 20, 32, 33, 34, 35, 36, 37, 38, 39, 40]\n",
    "    SubjectsCOV = []\n",
    "    SubjectsY = []\n",
    "    for i in range(1, 55):\n",
    "        filename = 'datasets/54subjects/'+ session + '/subj{}_EEG_MI.mat'.format(i)\n",
    "        data = loadmat(filename)\n",
    "        \n",
    "        d_train = data['EEG_MI_train']\n",
    "        Y_train = d_train['y_dec'][0][0][0] - 1\n",
    "        \n",
    "        d_test = data['EEG_MI_test']\n",
    "        Y_test = d_test['y_dec'][0][0][0] - 1\n",
    "        \n",
    "        X_train = d_train['smt'][0][0][:,:,channels]\n",
    "        X_train_filtered = bandpass(X_train, fs, fl, fh, order)\n",
    "        X_train_filtered = X_train_filtered[1000:3500]\n",
    "        \n",
    "        X_test = d_test['smt'][0][0][:,:,channels]\n",
    "        X_test_filtered = bandpass(X_test, fs, fl, fh, order)\n",
    "        X_test_filtered = X_test_filtered[1000:3500]\n",
    "        \n",
    "        X = np.concatenate((X_train_filtered, X_test_filtered), axis = 1)\n",
    "        X = np.swapaxes(X, 0, 1)\n",
    "        covX = getCovariances(X)\n",
    "        Y = np.concatenate((Y_train, Y_test))    \n",
    "        SubjectsCOV.append(covX)\n",
    "        SubjectsY.append(Y)\n",
    "                    \n",
    "    return SubjectsCOV, SubjectsY"
   ]
  },
  {
   "cell_type": "code",
   "execution_count": 3,
   "metadata": {},
   "outputs": [],
   "source": [
    "SubjectsCOV, SubjectsY = getData(\"sess01\")"
   ]
  },
  {
   "cell_type": "code",
   "execution_count": 4,
   "metadata": {},
   "outputs": [],
   "source": [
    "filename = 'datasets/54COV7Sess01.pickle'\n",
    "outfile = open(filename,'wb')\n",
    "pickle.dump([SubjectsCOV, SubjectsY], outfile)\n",
    "outfile.close()"
   ]
  },
  {
   "cell_type": "code",
   "execution_count": 5,
   "metadata": {},
   "outputs": [],
   "source": [
    "SubjectsCOV, SubjectsY = getData(\"sess02\")"
   ]
  },
  {
   "cell_type": "code",
   "execution_count": 6,
   "metadata": {},
   "outputs": [],
   "source": [
    "filename = 'datasets/54COV7Sess02.pickle'\n",
    "outfile = open(filename,'wb')\n",
    "pickle.dump([SubjectsCOV, SubjectsY], outfile)\n",
    "outfile.close()"
   ]
  }
 ],
 "metadata": {
  "kernelspec": {
   "display_name": "Python 3",
   "language": "python",
   "name": "python3"
  },
  "language_info": {
   "codemirror_mode": {
    "name": "ipython",
    "version": 3
   },
   "file_extension": ".py",
   "mimetype": "text/x-python",
   "name": "python",
   "nbconvert_exporter": "python",
   "pygments_lexer": "ipython3",
   "version": "3.7.6"
  }
 },
 "nbformat": 4,
 "nbformat_minor": 4
}
